{
 "cells": [
  {
   "cell_type": "code",
   "execution_count": 17,
   "metadata": {},
   "outputs": [],
   "source": [
    "import torch\n",
    "import numpy\n",
    "\n",
    "from torch import tensor\n",
    "\n",
    "from numpy import array"
   ]
  },
  {
   "cell_type": "markdown",
   "metadata": {},
   "source": [
    "# Parameters"
   ]
  },
  {
   "cell_type": "code",
   "execution_count": 5,
   "metadata": {},
   "outputs": [],
   "source": [
    "# Number of recognized words you put in input\n",
    "nb_input = 3\n",
    "\n",
    "# Number of classe, constant\n",
    "nb_output = 6\n",
    "\n",
    "# Number of hidden layers\n",
    "nb_hidd_lay = 3"
   ]
  },
  {
   "cell_type": "markdown",
   "metadata": {},
   "source": [
    "# RNN implementation"
   ]
  },
  {
   "cell_type": "code",
   "execution_count": 18,
   "metadata": {},
   "outputs": [],
   "source": [
    "class RNN(nn.Module):\n",
    "    def __init__(self, nb_inputs, nb_layers, nb_neurons, nb_outputs, learning_rate):\n",
    "        super(RNN, self).__init__()\n",
    "        self.layer = nn.Sequential(\n",
    "            nn.RNN(nb_inputs, nb_layers, nb_neurons, nb_outputs, dropout=0.5),\n",
    "            nn.Softmax(nb_outputs)\n",
    "        )\n",
    "        self.optimizer = optim.Adam(self.parameters(), lr=learning_rate)\n",
    "        \n",
    "    def forward(self, inputs):\n",
    "        x = self.layer(inputs)\n",
    "        return x\n",
    "    \n",
    "    def learn(batch_list, num_epochs=1,):\n",
    "        self.train()\n",
    "        losses = []\n",
    "        criterion = nn.CrossEntropyLoss()\n",
    "        \n",
    "        for epoch in range(num_epochs):\n",
    "            for batch_idx, (data, target) in enumerate(batch_list):\n",
    "                data, target = Variable(data.cuda()), Variable(target.cuda())\n",
    "                \n",
    "                output = self(data)\n",
    "                loss = criterion(output, target)\n",
    "                \n",
    "                losses.append(loss.data.item())\n",
    "                \n",
    "                self.optimizer.zero_grad()\n",
    "                \n",
    "                loss.backward()\n",
    "                self.optimizer.step()\n",
    "\n",
    "                if batch_idx % 100 == 0 or batch_idx % 100 == 1 :\n",
    "                    print('\\r Train Epoch: {} [{}/{} ({:.0f}%)]\\t Loss: {:.6f}'.format(\n",
    "                            epoch, \n",
    "                            batch_idx * len(data), \n",
    "                            len(train_loader.dataset),\n",
    "                            100. * batch_idx / len(train_loader), \n",
    "                            loss.data.item()), \n",
    "                            end='')"
   ]
  }
 ],
 "metadata": {
  "kernelspec": {
   "display_name": "Python 3",
   "language": "python",
   "name": "python3"
  },
  "language_info": {
   "codemirror_mode": {
    "name": "ipython",
    "version": 3
   },
   "file_extension": ".py",
   "mimetype": "text/x-python",
   "name": "python",
   "nbconvert_exporter": "python",
   "pygments_lexer": "ipython3",
   "version": "3.5.2"
  }
 },
 "nbformat": 4,
 "nbformat_minor": 2
}
